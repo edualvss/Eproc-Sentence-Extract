{
 "cells": [
  {
   "cell_type": "markdown",
   "id": "2b5c427f-e0fe-411e-8866-1596779328f6",
   "metadata": {},
   "source": [
    "# Separador de sentenças do Eproc SC"
   ]
  },
  {
   "cell_type": "code",
   "execution_count": 1,
   "id": "10a4e089-6ec8-45f4-a3c2-7dc8d57caed1",
   "metadata": {},
   "outputs": [],
   "source": [
    "import PyPDF2\n",
    "import os"
   ]
  },
  {
   "cell_type": "markdown",
   "id": "639db64c-9c5a-4939-9b52-308265c9c240",
   "metadata": {},
   "source": [
    "## Configuração dos Diretórios de Entrada e Saída\n",
    "\n",
    "* O diretório de entrada é o que possui os arquivos PDFs com várias sentenças, e apenas isso\n",
    "* O diretório de saída será onde as sentenças separadas serão armazenadas, um PDF por sentença"
   ]
  },
  {
   "cell_type": "code",
   "execution_count": 7,
   "id": "d345773a-34d9-44de-b36e-586596a9f373",
   "metadata": {},
   "outputs": [
    {
     "name": "stdout",
     "output_type": "stream",
     "text": [
      "Arquivos para leitura no diretório de entrada:\n"
     ]
    },
    {
     "data": {
      "text/plain": [
       "['SentencasExemplo.pdf']"
      ]
     },
     "execution_count": 7,
     "metadata": {},
     "output_type": "execute_result"
    }
   ],
   "source": [
    "input_folder = \"input\"\n",
    "\n",
    "print('Arquivos para leitura no diretório de entrada:')\n",
    "input_files = os.listdir(input_folder)\n",
    "input_files"
   ]
  },
  {
   "cell_type": "code",
   "execution_count": 8,
   "id": "334ea58d-b4f8-4abb-b233-70eee34d430c",
   "metadata": {},
   "outputs": [
    {
     "name": "stdout",
     "output_type": "stream",
     "text": [
      "Diretório de saída: `output` criado com sucesso!\n"
     ]
    }
   ],
   "source": [
    "# Diretório de saída, onde as sentenças separadas serão armazenadas\n",
    "output_folder = \"output\"\n",
    "\n",
    "# Verificar se o diretório não existe\n",
    "if not os.path.exists(output_folder):\n",
    "    # Criar o diretório de saída se não existir\n",
    "    os.makedirs(output_folder)\n",
    "    print(f\"Diretório de saída: `{output_folder}` criado com sucesso!\")\n",
    "else:\n",
    "    # Se existir, só avisa que já existe\n",
    "    print(f\"O diretório de saída `{output_folder}` já existe!\")\n"
   ]
  },
  {
   "cell_type": "markdown",
   "id": "8de44b08-d7d4-427e-9721-c19f95ed4144",
   "metadata": {},
   "source": [
    "## Processamento de arquivo\n",
    "\n",
    "**Sentença de teste**\n",
    "1. Páginas: \\[1,5\\] -> 0 ,4\n",
    "2. Pgs: \\[6-10\\]    -> 5 ,9\n",
    "3. Pgs: \\[11-16\\]   -> 10,15\n",
    "4. Pgs: \\[17-25\\]   -> 16,24\n",
    "5. Pgs: \\[26-30\\]   -> 25,29"
   ]
  },
  {
   "cell_type": "code",
   "execution_count": 9,
   "id": "9cb19f02-6ce7-470d-8ec9-1e9c0afc17a4",
   "metadata": {},
   "outputs": [],
   "source": [
    "# Função que lê um arquivo PDF (pdf_reader já aberto) e divide em múltiplos PDFs\n",
    "# de acordo com a lista de páginas (pages) marcadas.\n",
    "# O nome dos arquivos gerados são os números dos processos (sentence_ids)\n",
    "\n",
    "def split_sentence_files(pdf_reader,pages,sentence_ids):\n",
    "    # Marcador da primeira página \n",
    "    start_page = 0\n",
    "    for doc_index, end_page in enumerate(pages):\n",
    "        sentence_id = sentence_ids[doc_index]\n",
    "        output_filename = f\"{output_folder}/{sentence_id}.pdf\"\n",
    "        \n",
    "        print('- Em processamento: [',doc_index+1,\"/\",len(pages),\"] : [\", start_page, \",\", end_page , '] - ', sentence_ids[doc_index], \":\",output_filename)\n",
    "        # Escreve arquivos na saída\n",
    "        pdf_writer = PyPDF2.PdfWriter()\n",
    "        pdf_writer.append(fileobj=pdf_reader, pages=(start_page, end_page))\n",
    "        output = open(output_filename, \"wb\")\n",
    "        pdf_writer.write(output)\n",
    "        pdf_writer.close()\n",
    "        output.close()\n",
    "        \n",
    "        start_page = end_page"
   ]
  },
  {
   "cell_type": "code",
   "execution_count": 11,
   "id": "664b0043-f237-4f98-bf37-ba0b7256b831",
   "metadata": {},
   "outputs": [
    {
     "name": "stdout",
     "output_type": "stream",
     "text": [
      ">>>>> Processando arquivo: `input/SentencasExemplo.pdf`\n",
      "## Páginas que dividem as sentenças no arquivo `SentencasExemplo.pdf`: [5, 10, 16, 25, 30]\n",
      "## Número dos processos do arquivo `SentencasExemplo.pdf`: ['5027803-79.2022.8.24.0090', '5028771-75.2023.8.24.0090', '5126667-62.2022.8.24.0023', '5022213-87.2023.8.24.0090', '5011176-63.2023.8.24.0090']\n",
      "- Em processamento: [ 1 / 5 ] : [ 0 , 5 ] -  5027803-79.2022.8.24.0090 : output/5027803-79.2022.8.24.0090.pdf\n",
      "- Em processamento: [ 2 / 5 ] : [ 5 , 10 ] -  5028771-75.2023.8.24.0090 : output/5028771-75.2023.8.24.0090.pdf\n",
      "- Em processamento: [ 3 / 5 ] : [ 10 , 16 ] -  5126667-62.2022.8.24.0023 : output/5126667-62.2022.8.24.0023.pdf\n",
      "- Em processamento: [ 4 / 5 ] : [ 16 , 25 ] -  5022213-87.2023.8.24.0090 : output/5022213-87.2023.8.24.0090.pdf\n",
      "- Em processamento: [ 5 / 5 ] : [ 25 , 30 ] -  5011176-63.2023.8.24.0090 : output/5011176-63.2023.8.24.0090.pdf\n",
      "\n",
      "\n"
     ]
    }
   ],
   "source": [
    "# Processamento em lote de todos os arquivos no diretório de entrada!\n",
    "# Para cada arquivo no diretório de entrada, divida-os em múltiplos no diretório de saída!\n",
    "\n",
    "for file in input_files:\n",
    "    filename = f'{input_folder}/{file}'\n",
    "    print(f'>>>>> Processando arquivo: `{filename}`')\n",
    "    # Ler arquivo de entrada\n",
    "    pdf_fileobj = open(filename,'rb')\n",
    "    \n",
    "    # Criar o leitor do arquivo de entrada\n",
    "    pdf_reader = PyPDF2.PdfReader(pdf_fileobj)\n",
    "    \n",
    "    # Lista com as marcações das páginas de início e final de sentença\n",
    "    pages_divisors = [] # Vetor com os números das páginas que iniciam cada sentença\n",
    "    sentence_ids = []   # Vetor com o Identificador da sentença que é o número do processo\n",
    "    for i in range(len(pdf_reader.pages)): # Para cada página do arquivo aberto\n",
    "        page_obj=pdf_reader.pages[i]       # Lê a página\n",
    "        page_text=page_obj.extract_text()  # Extrai o texto\n",
    "        page_lines = page_text.split('\\n') # Quebra as linhas\n",
    "        page_first_line = page_lines[0]    # Obtém o texto da primeira linha\n",
    "        \n",
    "        # O que identifica a primeira página de cada sentença é o endereço da UFSC (baseado no arquivo de teste)\n",
    "        if page_first_line == 'Av. Des. Vitor Lima, 183, fundos- Campus da UFSC - Bairro: Serrinha - CEP: 88040-400 - Fone: (48)3287-5019 - Email:':\n",
    "            pages_divisors.append(i)                         # Marca a página de início da sentença\n",
    "            sentence_ids.append(page_lines[-4].split()[0])   # Obtém o identificador da sentença (número do processo) que está no rodapé da página\n",
    "    \n",
    "    pages_divisors.pop(0) # Remove o marcador de página 0, pois página que inícia a primeira sentença sempre será a primeira\n",
    "    pages_divisors.append(len(pdf_reader.pages)) # Adiciona a última página do arquivo na lista de páginas.\n",
    "\n",
    "    print(f'## Páginas que dividem as sentenças no arquivo `{file}`: {pages_divisors}')\n",
    "    print(f'## Número dos processos do arquivo `{file}`: {sentence_ids}')\n",
    "    split_sentence_files(pdf_reader,pages_divisors,sentence_ids) # Processa o arquivo\n",
    "\n",
    "    pdf_reader.close()\n",
    "    pdf_fileobj.close()\n",
    "    print()\n",
    "    print()"
   ]
  }
 ],
 "metadata": {
  "kernelspec": {
   "display_name": "Python 3 (ipykernel)",
   "language": "python",
   "name": "python3"
  },
  "language_info": {
   "codemirror_mode": {
    "name": "ipython",
    "version": 3
   },
   "file_extension": ".py",
   "mimetype": "text/x-python",
   "name": "python",
   "nbconvert_exporter": "python",
   "pygments_lexer": "ipython3",
   "version": "3.10.12"
  }
 },
 "nbformat": 4,
 "nbformat_minor": 5
}
